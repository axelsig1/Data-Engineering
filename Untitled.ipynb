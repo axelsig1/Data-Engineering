{
 "cells": [
  {
   "cell_type": "code",
   "execution_count": 1,
   "id": "644c74e3-0330-49f6-908f-0e567bcc1b07",
   "metadata": {},
   "outputs": [
    {
     "name": "stderr",
     "output_type": "stream",
     "text": [
      "Setting default log level to \"WARN\".\n",
      "To adjust logging level use sc.setLogLevel(newLevel). For SparkR, use setLogLevel(newLevel).\n",
      "24/03/12 22:30:29 WARN NativeCodeLoader: Unable to load native-hadoop library for your platform... using builtin-java classes where applicable\n"
     ]
    }
   ],
   "source": [
    "from operator import add\n",
    "import re\n",
    "from collections import OrderedDict\n",
    "from operator import itemgetter \n",
    "import itertools\n",
    "from pyspark.sql import SparkSession\n",
    "\n",
    "# New API\n",
    "spark_session = SparkSession\\\n",
    "        .builder\\\n",
    "        .master(\"spark://192.168.2.250:7077\") \\\n",
    "        .appName(\"A3test\")\\\n",
    "        .config(\"spark.executor.cores\",4)\\\n",
    "        .config(\"spark.dynamicAllocation.enabled\", True)\\\n",
    "        .config(\"spark.dynamicAllocation.shuffleTracking.enabled\", True)\\\n",
    "        .config(\"spark.shuffle.service.enabled\", False)\\\n",
    "        .config(\"spark.dynamicAllocation.executorIdleTimeout\",\"30s\")\\\n",
    "        .config(\"spark.driver.port\",9999)\\\n",
    "        .config(\"spark.blockManager.port\",10005)\\\n",
    "        .getOrCreate()\n",
    "\n",
    "\n",
    "# RDD API \n",
    "spark_context = spark_session.sparkContext\n",
    "\n",
    "spark_context.setLogLevel(\"ERROR\")"
   ]
  },
  {
   "cell_type": "code",
   "execution_count": 4,
   "id": "f6fe94eb-beae-491c-9e13-119ef7b5908a",
   "metadata": {},
   "outputs": [
    {
     "name": "stderr",
     "output_type": "stream",
     "text": [
      "                                                                                \r"
     ]
    },
    {
     "data": {
      "text/plain": [
       "1862234"
      ]
     },
     "execution_count": 4,
     "metadata": {},
     "output_type": "execute_result"
    }
   ],
   "source": [
    "\n",
    "rdd_eng = spark_context.textFile('hdfs://192.168.2.250:9000/europarl/europarl-v7.sv-en.en').cache() # Keep this RDD in memory!\n",
    "\n",
    "rdd_eng.count()\n",
    "# Only one job (previous .cache() did not trigger a job)"
   ]
  },
  {
   "cell_type": "code",
   "execution_count": 5,
   "id": "c29d127d-9c71-4171-bb17-13ff35dd7597",
   "metadata": {},
   "outputs": [
    {
     "name": "stderr",
     "output_type": "stream",
     "text": [
      "                                                                                \r"
     ]
    },
    {
     "data": {
      "text/plain": [
       "1862234"
      ]
     },
     "execution_count": 5,
     "metadata": {},
     "output_type": "execute_result"
    }
   ],
   "source": [
    "\n",
    "rdd_swe = spark_context.textFile('hdfs://192.168.2.250:9000/europarl/europarl-v7.sv-en.sv').cache() # Keep this RDD in memory!\n",
    "\n",
    "rdd_swe.count()\n",
    "# Only one job (previous .cache() did not trigger a job)"
   ]
  },
  {
   "cell_type": "code",
   "execution_count": 8,
   "id": "5382b2cb-f2bc-4e87-b384-fe09c46c0f60",
   "metadata": {},
   "outputs": [
    {
     "name": "stderr",
     "output_type": "stream",
     "text": [
      "                                                                                \r"
     ]
    }
   ],
   "source": [
    "# Function to preprocess text: lowercase and tokenize\n",
    "def preprocess_text(line):\n",
    "    # Lowercase the text\n",
    "    line = line.lower()\n",
    "    # Tokenize the text (split on space)\n",
    "    tokens = line.split()\n",
    "    return tokens\n",
    "\n",
    "words_en = rdd_eng.flatMap(preprocess_text)\n",
    "words_sv = rdd_swe.flatMap(preprocess_text)\n",
    "\n",
    "# Step 1: Key the lines by their line number\n",
    "key_en = words_en.zipWithIndex().map(lambda x: (x[1], x[0]))\n",
    "key_sv = words_sv.zipWithIndex().map(lambda x: (x[1], x[0]))"
   ]
  },
  {
   "cell_type": "code",
   "execution_count": 9,
   "id": "1c266edd-e536-40bf-9b92-9a40ca401dba",
   "metadata": {},
   "outputs": [
    {
     "name": "stdout",
     "output_type": "stream",
     "text": [
      "\n",
      "Sample of joined RDD:\n"
     ]
    },
    {
     "name": "stderr",
     "output_type": "stream",
     "text": [
      "[Stage 6:>                                                          (0 + 1) / 1]\r"
     ]
    },
    {
     "name": "stdout",
     "output_type": "stream",
     "text": [
      "[(120, ('of', 'till')), (660, ('all', 'alexander')), (2325, ('abstentions)', 'då')), (2455, ('allowed', 'dessa')), (2560, ('mr', 'direktiv'))]\n"
     ]
    },
    {
     "name": "stderr",
     "output_type": "stream",
     "text": [
      "                                                                                \r"
     ]
    }
   ],
   "source": [
    "# Step 3: Join the two RDDs together according to the line number key\n",
    "joined = key_en.join(key_sv)\n",
    "\n",
    "print(\"\\nSample of joined RDD:\")\n",
    "print(joined.take(5))"
   ]
  },
  {
   "cell_type": "code",
   "execution_count": 10,
   "id": "2d9aeeec-9d60-468f-ad8f-5db30e5afd16",
   "metadata": {},
   "outputs": [
    {
     "name": "stdout",
     "output_type": "stream",
     "text": [
      "\n",
      "Sample of filtered RDD (excluding empty/missing sentences):\n"
     ]
    },
    {
     "name": "stderr",
     "output_type": "stream",
     "text": [
      "[Stage 8:>                                                          (0 + 1) / 1]\r"
     ]
    },
    {
     "name": "stdout",
     "output_type": "stream",
     "text": [
      "[(39033810, ('have', 'generell')), (39044340, ('be', 'sina')), (39047470, ('economic,', 'annemarie')), (39067790, ('with', 'unscom,')), (39074885, ('monetary', 'b4-1148/98'))]\n"
     ]
    },
    {
     "name": "stderr",
     "output_type": "stream",
     "text": [
      "                                                                                \r"
     ]
    }
   ],
   "source": [
    "# Step 4: Filter to exclude line pairs that have an empty/missing “corresponding” sentence\n",
    "joined_filtered = joined.filter(lambda x: all(x[1]))\n",
    "\n",
    "print(\"\\nSample of filtered RDD (excluding empty/missing sentences):\")\n",
    "print(joined_filtered.take(5))"
   ]
  },
  {
   "cell_type": "code",
   "execution_count": null,
   "id": "b58897ef-3cd6-40cb-ba4d-0a15bbd2b075",
   "metadata": {},
   "outputs": [],
   "source": []
  }
 ],
 "metadata": {
  "kernelspec": {
   "display_name": "Python 3 (ipykernel)",
   "language": "python",
   "name": "python3"
  },
  "language_info": {
   "codemirror_mode": {
    "name": "ipython",
    "version": 3
   },
   "file_extension": ".py",
   "mimetype": "text/x-python",
   "name": "python",
   "nbconvert_exporter": "python",
   "pygments_lexer": "ipython3",
   "version": "3.8.10"
  }
 },
 "nbformat": 4,
 "nbformat_minor": 5
}
